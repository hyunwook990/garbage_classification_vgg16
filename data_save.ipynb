{
 "cells": [
  {
   "cell_type": "markdown",
   "id": "f03aefc1",
   "metadata": {},
   "source": [
    "# Data Save"
   ]
  },
  {
   "cell_type": "markdown",
   "id": "231d259d",
   "metadata": {},
   "source": [
    "### Library Import"
   ]
  },
  {
   "cell_type": "code",
   "execution_count": null,
   "id": "0aac296e",
   "metadata": {},
   "outputs": [],
   "source": [
    "import os\n",
    "import cv2\n",
    "import h5py\n",
    "import json\n",
    "import numpy as np\n",
    "import pandas as pd\n",
    "import matplotlib.pyplot as plt\n",
    "from sklearn.preprocessing import LabelEncoder\n",
    "from torchvision.transforms import transforms"
   ]
  },
  {
   "cell_type": "markdown",
   "id": "ce2f2d86",
   "metadata": {},
   "source": [
    "### 데이터의 경로 입력"
   ]
  },
  {
   "cell_type": "code",
   "execution_count": 33,
   "id": "cb57322b",
   "metadata": {},
   "outputs": [],
   "source": [
    "DATA_PATH = \"dataset\\\\\""
   ]
  },
  {
   "cell_type": "markdown",
   "id": "c25339d6",
   "metadata": {},
   "source": [
    "### train, test, val 폴더 경로 구분"
   ]
  },
  {
   "cell_type": "code",
   "execution_count": 34,
   "id": "71cfaf81",
   "metadata": {},
   "outputs": [],
   "source": [
    "file_path = dict()\n",
    "for path in os.listdir(DATA_PATH):\n",
    "    if \"train\" in path:\n",
    "        file_path[\"train_path\"] = os.path.join(DATA_PATH, path)\n",
    "    elif \"val\" in path:\n",
    "        file_path[\"val_path\"] = os.path.join(DATA_PATH, path)\n",
    "    else:\n",
    "        file_path[\"test_path\"] = os.path.join(DATA_PATH, path)"
   ]
  },
  {
   "cell_type": "code",
   "execution_count": 35,
   "id": "c128aa8e",
   "metadata": {},
   "outputs": [
    {
     "data": {
      "text/plain": [
       "{'test_path': 'dataset\\\\test',\n",
       " 'train_path': 'dataset\\\\train',\n",
       " 'val_path': 'dataset\\\\val'}"
      ]
     },
     "execution_count": 35,
     "metadata": {},
     "output_type": "execute_result"
    }
   ],
   "source": [
    "file_path"
   ]
  },
  {
   "cell_type": "markdown",
   "id": "d96b7621",
   "metadata": {},
   "source": [
    "### label 목록 저장"
   ]
  },
  {
   "cell_type": "code",
   "execution_count": 36,
   "id": "843e0080",
   "metadata": {},
   "outputs": [
    {
     "data": {
      "text/plain": [
       "['battery',\n",
       " 'biological',\n",
       " 'cardboard',\n",
       " 'clothes',\n",
       " 'glass',\n",
       " 'metal',\n",
       " 'paper',\n",
       " 'plastic',\n",
       " 'shoes',\n",
       " 'trash']"
      ]
     },
     "execution_count": 36,
     "metadata": {},
     "output_type": "execute_result"
    }
   ],
   "source": [
    "label_list = [label for label in os.listdir(file_path[\"train_path\"])]\n",
    "label_list"
   ]
  },
  {
   "cell_type": "code",
   "execution_count": null,
   "id": "633838f1",
   "metadata": {},
   "outputs": [],
   "source": [
    "train_img = []      # 파일명 저장\n",
    "train_label = []    # label 값 저장\n",
    "\n",
    "for label in label_list:\n",
    "    for img_path in os.listdir(os.path.join(file_path[\"train_path\"], label)):\n",
    "            train_img.append(img_path)\n",
    "            train_label.append(img_path.split(\"_\")[0])\n",
    "    for img_path in os.listdir(os.path.join(file_path['val_path'], label)):\n",
    "          train_img.append(img_path)\n",
    "          train_label.append(img_path.split(\"_\")[0])"
   ]
  },
  {
   "cell_type": "code",
   "execution_count": 42,
   "id": "469201da",
   "metadata": {},
   "outputs": [
    {
     "data": {
      "text/html": [
       "<div>\n",
       "<style scoped>\n",
       "    .dataframe tbody tr th:only-of-type {\n",
       "        vertical-align: middle;\n",
       "    }\n",
       "\n",
       "    .dataframe tbody tr th {\n",
       "        vertical-align: top;\n",
       "    }\n",
       "\n",
       "    .dataframe thead th {\n",
       "        text-align: right;\n",
       "    }\n",
       "</style>\n",
       "<table border=\"1\" class=\"dataframe\">\n",
       "  <thead>\n",
       "    <tr style=\"text-align: right;\">\n",
       "      <th></th>\n",
       "      <th>file_name</th>\n",
       "      <th>label</th>\n",
       "    </tr>\n",
       "  </thead>\n",
       "  <tbody>\n",
       "    <tr>\n",
       "      <th>0</th>\n",
       "      <td>battery_1.jpg</td>\n",
       "      <td>battery</td>\n",
       "    </tr>\n",
       "    <tr>\n",
       "      <th>1</th>\n",
       "      <td>battery_10.jpg</td>\n",
       "      <td>battery</td>\n",
       "    </tr>\n",
       "    <tr>\n",
       "      <th>2</th>\n",
       "      <td>battery_100.jpg</td>\n",
       "      <td>battery</td>\n",
       "    </tr>\n",
       "    <tr>\n",
       "      <th>3</th>\n",
       "      <td>battery_101.jpg</td>\n",
       "      <td>battery</td>\n",
       "    </tr>\n",
       "    <tr>\n",
       "      <th>4</th>\n",
       "      <td>battery_102.jpg</td>\n",
       "      <td>battery</td>\n",
       "    </tr>\n",
       "    <tr>\n",
       "      <th>...</th>\n",
       "      <td>...</td>\n",
       "      <td>...</td>\n",
       "    </tr>\n",
       "    <tr>\n",
       "      <th>8995</th>\n",
       "      <td>trash_767.jpg</td>\n",
       "      <td>trash</td>\n",
       "    </tr>\n",
       "    <tr>\n",
       "      <th>8996</th>\n",
       "      <td>trash_786.jpg</td>\n",
       "      <td>trash</td>\n",
       "    </tr>\n",
       "    <tr>\n",
       "      <th>8997</th>\n",
       "      <td>trash_788.jpg</td>\n",
       "      <td>trash</td>\n",
       "    </tr>\n",
       "    <tr>\n",
       "      <th>8998</th>\n",
       "      <td>trash_81.jpg</td>\n",
       "      <td>trash</td>\n",
       "    </tr>\n",
       "    <tr>\n",
       "      <th>8999</th>\n",
       "      <td>trash_84.jpg</td>\n",
       "      <td>trash</td>\n",
       "    </tr>\n",
       "  </tbody>\n",
       "</table>\n",
       "<p>9000 rows × 2 columns</p>\n",
       "</div>"
      ],
      "text/plain": [
       "            file_name    label\n",
       "0       battery_1.jpg  battery\n",
       "1      battery_10.jpg  battery\n",
       "2     battery_100.jpg  battery\n",
       "3     battery_101.jpg  battery\n",
       "4     battery_102.jpg  battery\n",
       "...               ...      ...\n",
       "8995    trash_767.jpg    trash\n",
       "8996    trash_786.jpg    trash\n",
       "8997    trash_788.jpg    trash\n",
       "8998     trash_81.jpg    trash\n",
       "8999     trash_84.jpg    trash\n",
       "\n",
       "[9000 rows x 2 columns]"
      ]
     },
     "execution_count": 42,
     "metadata": {},
     "output_type": "execute_result"
    }
   ],
   "source": [
    "train_df = pd.DataFrame({\n",
    "    'file_name' : train_img,\n",
    "    'label': train_label\n",
    "})\n",
    "train_df"
   ]
  },
  {
   "cell_type": "code",
   "execution_count": null,
   "id": "ff60fda6",
   "metadata": {},
   "outputs": [],
   "source": [
    "train_data = []\n",
    "test_data = []\n",
    "\n",
    "for img in os.path.join(file_path['train_path'])"
   ]
  },
  {
   "cell_type": "code",
   "execution_count": null,
   "id": "a89fc20e",
   "metadata": {},
   "outputs": [],
   "source": [
    "transforms.Resize(size=224)"
   ]
  }
 ],
 "metadata": {
  "kernelspec": {
   "display_name": "test_env",
   "language": "python",
   "name": "python3"
  },
  "language_info": {
   "codemirror_mode": {
    "name": "ipython",
    "version": 3
   },
   "file_extension": ".py",
   "mimetype": "text/x-python",
   "name": "python",
   "nbconvert_exporter": "python",
   "pygments_lexer": "ipython3",
   "version": "3.9.21"
  }
 },
 "nbformat": 4,
 "nbformat_minor": 5
}

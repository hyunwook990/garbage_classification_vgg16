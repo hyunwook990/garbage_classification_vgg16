{
 "cells": [
  {
   "cell_type": "markdown",
   "id": "f03aefc1",
   "metadata": {},
   "source": [
    "# Data Save"
   ]
  },
  {
   "cell_type": "markdown",
   "id": "231d259d",
   "metadata": {},
   "source": [
    "### Library Import"
   ]
  },
  {
   "cell_type": "code",
   "execution_count": 1,
   "id": "0aac296e",
   "metadata": {},
   "outputs": [],
   "source": [
    "import os\n",
    "import cv2\n",
    "import h5py\n",
    "import json\n",
    "import numpy as np\n",
    "import pandas as pd\n",
    "import matplotlib.pyplot as plt\n",
    "from sklearn.preprocessing import LabelEncoder\n",
    "from torchvision.transforms import transforms"
   ]
  },
  {
   "cell_type": "markdown",
   "id": "ce2f2d86",
   "metadata": {},
   "source": [
    "### 데이터의 경로 입력"
   ]
  },
  {
   "cell_type": "code",
   "execution_count": 2,
   "id": "cb57322b",
   "metadata": {},
   "outputs": [],
   "source": [
    "DATA_PATH = \"dataset\\\\\""
   ]
  },
  {
   "cell_type": "markdown",
   "id": "c25339d6",
   "metadata": {},
   "source": [
    "### train, test, val 폴더 경로 구분"
   ]
  },
  {
   "cell_type": "code",
   "execution_count": 3,
   "id": "71cfaf81",
   "metadata": {},
   "outputs": [],
   "source": [
    "file_path = dict()\n",
    "for path in os.listdir(DATA_PATH):\n",
    "    if \"train\" in path:\n",
    "        file_path[\"train_path\"] = os.path.join(DATA_PATH, path)\n",
    "    elif \"val\" in path:\n",
    "        file_path[\"val_path\"] = os.path.join(DATA_PATH, path)\n",
    "    else:\n",
    "        file_path[\"test_path\"] = os.path.join(DATA_PATH, path)"
   ]
  },
  {
   "cell_type": "code",
   "execution_count": 4,
   "id": "c128aa8e",
   "metadata": {},
   "outputs": [
    {
     "data": {
      "text/plain": [
       "{'test_path': 'dataset\\\\test',\n",
       " 'train_path': 'dataset\\\\train',\n",
       " 'val_path': 'dataset\\\\val'}"
      ]
     },
     "execution_count": 4,
     "metadata": {},
     "output_type": "execute_result"
    }
   ],
   "source": [
    "file_path"
   ]
  },
  {
   "cell_type": "markdown",
   "id": "d96b7621",
   "metadata": {},
   "source": [
    "### label 목록 저장"
   ]
  },
  {
   "cell_type": "code",
   "execution_count": 5,
   "id": "843e0080",
   "metadata": {},
   "outputs": [
    {
     "data": {
      "text/plain": [
       "['battery',\n",
       " 'biological',\n",
       " 'cardboard',\n",
       " 'clothes',\n",
       " 'glass',\n",
       " 'metal',\n",
       " 'paper',\n",
       " 'plastic',\n",
       " 'shoes',\n",
       " 'trash']"
      ]
     },
     "execution_count": 5,
     "metadata": {},
     "output_type": "execute_result"
    }
   ],
   "source": [
    "label_list = [label for label in os.listdir(file_path[\"train_path\"])]\n",
    "label_list"
   ]
  },
  {
   "cell_type": "code",
   "execution_count": 6,
   "id": "633838f1",
   "metadata": {},
   "outputs": [],
   "source": [
    "train_img = []      # 파일명 저장\n",
    "train_label = []    # label 값 저장\n",
    "test_img = []\n",
    "test_label = []\n",
    "\n",
    "for label in label_list:\n",
    "        for img_path in os.listdir(os.path.join(file_path[\"train_path\"], label)):\n",
    "                train_img.append(img_path)\n",
    "                train_label.append(img_path.split(\"_\")[0])\n",
    "        for img_path in os.listdir(os.path.join(file_path['val_path'], label)):\n",
    "                train_img.append(img_path)\n",
    "                train_label.append(img_path.split(\"_\")[0])\n",
    "        for img_path in os.listdir(os.path.join(file_path['test_path'], label)):\n",
    "                test_img.append(img_path)\n",
    "                test_label.append(img_path.split(\"_\")[0])\n"
   ]
  },
  {
   "cell_type": "code",
   "execution_count": 7,
   "id": "b7db61ec",
   "metadata": {},
   "outputs": [
    {
     "name": "stdout",
     "output_type": "stream",
     "text": [
      "20240626_161207.jpg\n",
      "20240626\n",
      "metal\n",
      "20240626_162343.jpg\n",
      "20240626\n",
      "trash\n"
     ]
    }
   ],
   "source": [
    "print(train_img[4500])\n",
    "print(train_label[4500])\n",
    "train_label[4500]='metal'\n",
    "print(train_label[4500])\n",
    "print(train_img[8100])\n",
    "print(train_label[8100])\n",
    "train_label[8100]='trash'\n",
    "print(train_label[8100])"
   ]
  },
  {
   "cell_type": "code",
   "execution_count": 8,
   "id": "469201da",
   "metadata": {},
   "outputs": [
    {
     "data": {
      "text/html": [
       "<div>\n",
       "<style scoped>\n",
       "    .dataframe tbody tr th:only-of-type {\n",
       "        vertical-align: middle;\n",
       "    }\n",
       "\n",
       "    .dataframe tbody tr th {\n",
       "        vertical-align: top;\n",
       "    }\n",
       "\n",
       "    .dataframe thead th {\n",
       "        text-align: right;\n",
       "    }\n",
       "</style>\n",
       "<table border=\"1\" class=\"dataframe\">\n",
       "  <thead>\n",
       "    <tr style=\"text-align: right;\">\n",
       "      <th></th>\n",
       "      <th>file_name</th>\n",
       "      <th>label</th>\n",
       "    </tr>\n",
       "  </thead>\n",
       "  <tbody>\n",
       "    <tr>\n",
       "      <th>0</th>\n",
       "      <td>battery_1.jpg</td>\n",
       "      <td>battery</td>\n",
       "    </tr>\n",
       "    <tr>\n",
       "      <th>1</th>\n",
       "      <td>battery_10.jpg</td>\n",
       "      <td>battery</td>\n",
       "    </tr>\n",
       "    <tr>\n",
       "      <th>2</th>\n",
       "      <td>battery_100.jpg</td>\n",
       "      <td>battery</td>\n",
       "    </tr>\n",
       "    <tr>\n",
       "      <th>3</th>\n",
       "      <td>battery_101.jpg</td>\n",
       "      <td>battery</td>\n",
       "    </tr>\n",
       "    <tr>\n",
       "      <th>4</th>\n",
       "      <td>battery_102.jpg</td>\n",
       "      <td>battery</td>\n",
       "    </tr>\n",
       "    <tr>\n",
       "      <th>...</th>\n",
       "      <td>...</td>\n",
       "      <td>...</td>\n",
       "    </tr>\n",
       "    <tr>\n",
       "      <th>8995</th>\n",
       "      <td>trash_767.jpg</td>\n",
       "      <td>trash</td>\n",
       "    </tr>\n",
       "    <tr>\n",
       "      <th>8996</th>\n",
       "      <td>trash_786.jpg</td>\n",
       "      <td>trash</td>\n",
       "    </tr>\n",
       "    <tr>\n",
       "      <th>8997</th>\n",
       "      <td>trash_788.jpg</td>\n",
       "      <td>trash</td>\n",
       "    </tr>\n",
       "    <tr>\n",
       "      <th>8998</th>\n",
       "      <td>trash_81.jpg</td>\n",
       "      <td>trash</td>\n",
       "    </tr>\n",
       "    <tr>\n",
       "      <th>8999</th>\n",
       "      <td>trash_84.jpg</td>\n",
       "      <td>trash</td>\n",
       "    </tr>\n",
       "  </tbody>\n",
       "</table>\n",
       "<p>9000 rows × 2 columns</p>\n",
       "</div>"
      ],
      "text/plain": [
       "            file_name    label\n",
       "0       battery_1.jpg  battery\n",
       "1      battery_10.jpg  battery\n",
       "2     battery_100.jpg  battery\n",
       "3     battery_101.jpg  battery\n",
       "4     battery_102.jpg  battery\n",
       "...               ...      ...\n",
       "8995    trash_767.jpg    trash\n",
       "8996    trash_786.jpg    trash\n",
       "8997    trash_788.jpg    trash\n",
       "8998     trash_81.jpg    trash\n",
       "8999     trash_84.jpg    trash\n",
       "\n",
       "[9000 rows x 2 columns]"
      ]
     },
     "metadata": {},
     "output_type": "display_data"
    },
    {
     "data": {
      "text/html": [
       "<div>\n",
       "<style scoped>\n",
       "    .dataframe tbody tr th:only-of-type {\n",
       "        vertical-align: middle;\n",
       "    }\n",
       "\n",
       "    .dataframe tbody tr th {\n",
       "        vertical-align: top;\n",
       "    }\n",
       "\n",
       "    .dataframe thead th {\n",
       "        text-align: right;\n",
       "    }\n",
       "</style>\n",
       "<table border=\"1\" class=\"dataframe\">\n",
       "  <thead>\n",
       "    <tr style=\"text-align: right;\">\n",
       "      <th></th>\n",
       "      <th>file_name</th>\n",
       "      <th>label</th>\n",
       "    </tr>\n",
       "  </thead>\n",
       "  <tbody>\n",
       "    <tr>\n",
       "      <th>0</th>\n",
       "      <td>battery_105.jpg</td>\n",
       "      <td>battery</td>\n",
       "    </tr>\n",
       "    <tr>\n",
       "      <th>1</th>\n",
       "      <td>battery_110.jpg</td>\n",
       "      <td>battery</td>\n",
       "    </tr>\n",
       "    <tr>\n",
       "      <th>2</th>\n",
       "      <td>battery_112.jpg</td>\n",
       "      <td>battery</td>\n",
       "    </tr>\n",
       "    <tr>\n",
       "      <th>3</th>\n",
       "      <td>battery_117.jpg</td>\n",
       "      <td>battery</td>\n",
       "    </tr>\n",
       "    <tr>\n",
       "      <th>4</th>\n",
       "      <td>battery_126.jpg</td>\n",
       "      <td>battery</td>\n",
       "    </tr>\n",
       "    <tr>\n",
       "      <th>...</th>\n",
       "      <td>...</td>\n",
       "      <td>...</td>\n",
       "    </tr>\n",
       "    <tr>\n",
       "      <th>995</th>\n",
       "      <td>trash_820.jpg</td>\n",
       "      <td>trash</td>\n",
       "    </tr>\n",
       "    <tr>\n",
       "      <th>996</th>\n",
       "      <td>trash_822.jpg</td>\n",
       "      <td>trash</td>\n",
       "    </tr>\n",
       "    <tr>\n",
       "      <th>997</th>\n",
       "      <td>trash_83.jpg</td>\n",
       "      <td>trash</td>\n",
       "    </tr>\n",
       "    <tr>\n",
       "      <th>998</th>\n",
       "      <td>trash_91.jpg</td>\n",
       "      <td>trash</td>\n",
       "    </tr>\n",
       "    <tr>\n",
       "      <th>999</th>\n",
       "      <td>trash_97.jpg</td>\n",
       "      <td>trash</td>\n",
       "    </tr>\n",
       "  </tbody>\n",
       "</table>\n",
       "<p>1000 rows × 2 columns</p>\n",
       "</div>"
      ],
      "text/plain": [
       "           file_name    label\n",
       "0    battery_105.jpg  battery\n",
       "1    battery_110.jpg  battery\n",
       "2    battery_112.jpg  battery\n",
       "3    battery_117.jpg  battery\n",
       "4    battery_126.jpg  battery\n",
       "..               ...      ...\n",
       "995    trash_820.jpg    trash\n",
       "996    trash_822.jpg    trash\n",
       "997     trash_83.jpg    trash\n",
       "998     trash_91.jpg    trash\n",
       "999     trash_97.jpg    trash\n",
       "\n",
       "[1000 rows x 2 columns]"
      ]
     },
     "metadata": {},
     "output_type": "display_data"
    }
   ],
   "source": [
    "train_df = pd.DataFrame({\n",
    "    'file_name' : train_img,\n",
    "    'label': train_label\n",
    "})\n",
    "test_df = pd.DataFrame({\n",
    "    'file_name' : test_img,\n",
    "    'label' : test_label\n",
    "})\n",
    "display(train_df)\n",
    "display(test_df)"
   ]
  },
  {
   "cell_type": "code",
   "execution_count": 11,
   "id": "ff60fda6",
   "metadata": {},
   "outputs": [
    {
     "name": "stdout",
     "output_type": "stream",
     "text": [
      "(9000, 224, 224, 3)\n",
      "(1000, 224, 224, 3)\n"
     ]
    }
   ],
   "source": [
    "train_data = []\n",
    "test_data = []\n",
    "\n",
    "for file_name, folder_name in zip(train_img, train_label):\n",
    "    if file_name in os.listdir(os.path.join(file_path['train_path'], folder_name)):\n",
    "        img = cv2.imread(os.path.join(file_path['train_path'], folder_name, file_name), cv2.IMREAD_COLOR_RGB)\n",
    "        img = cv2.resize(img, (224, 224))\n",
    "        train_data.append(img)\n",
    "    else:\n",
    "        img = cv2.imread(os.path.join(file_path['val_path'], folder_name, file_name), cv2.IMREAD_COLOR_RGB)\n",
    "        img = cv2.resize(img, (224, 224))\n",
    "        train_data.append(img)\n",
    "\n",
    "for file_name, folder_name in zip(test_img, test_label):\n",
    "    img = cv2.imread(os.path.join(file_path['test_path'],folder_name,file_name), cv2.IMREAD_COLOR_RGB)\n",
    "    img = cv2.resize(img, (224,224))\n",
    "    test_data.append(img)\n",
    "\n",
    "train_data = np.array(train_data)\n",
    "test_data = np.array(test_data)\n",
    "\n",
    "print(train_data.shape)\n",
    "print(test_data.shape)"
   ]
  },
  {
   "cell_type": "code",
   "execution_count": 12,
   "id": "cdb3509c",
   "metadata": {},
   "outputs": [
    {
     "name": "stdout",
     "output_type": "stream",
     "text": [
      "{0: 'battery', 1: 'biological', 2: 'cardboard', 3: 'clothes', 4: 'glass', 5: 'metal', 6: 'paper', 7: 'plastic', 8: 'shoes', 9: 'trash'}\n",
      "[0 0 0 ... 9 9 9]\n",
      "[0 0 0 0 0 0 0 0 0 0 0 0 0 0 0 0 0 0 0 0 0 0 0 0 0 0 0 0 0 0 0 0 0 0 0 0 0\n",
      " 0 0 0 0 0 0 0 0 0 0 0 0 0 0 0 0 0 0 0 0 0 0 0 0 0 0 0 0 0 0 0 0 0 0 0 0 0\n",
      " 0 0 0 0 0 0 0 0 0 0 0 0 0 0 0 0 0 0 0 0 0 0 0 0 0 0 1 1 1 1 1 1 1 1 1 1 1\n",
      " 1 1 1 1 1 1 1 1 1 1 1 1 1 1 1 1 1 1 1 1 1 1 1 1 1 1 1 1 1 1 1 1 1 1 1 1 1\n",
      " 1 1 1 1 1 1 1 1 1 1 1 1 1 1 1 1 1 1 1 1 1 1 1 1 1 1 1 1 1 1 1 1 1 1 1 1 1\n",
      " 1 1 1 1 1 1 1 1 1 1 1 1 1 1 1 2 2 2 2 2 2 2 2 2 2 2 2 2 2 2 2 2 2 2 2 2 2\n",
      " 2 2 2 2 2 2 2 2 2 2 2 2 2 2 2 2 2 2 2 2 2 2 2 2 2 2 2 2 2 2 2 2 2 2 2 2 2\n",
      " 2 2 2 2 2 2 2 2 2 2 2 2 2 2 2 2 2 2 2 2 2 2 2 2 2 2 2 2 2 2 2 2 2 2 2 2 2\n",
      " 2 2 2 2 3 3 3 3 3 3 3 3 3 3 3 3 3 3 3 3 3 3 3 3 3 3 3 3 3 3 3 3 3 3 3 3 3\n",
      " 3 3 3 3 3 3 3 3 3 3 3 3 3 3 3 3 3 3 3 3 3 3 3 3 3 3 3 3 3 3 3 3 3 3 3 3 3\n",
      " 3 3 3 3 3 3 3 3 3 3 3 3 3 3 3 3 3 3 3 3 3 3 3 3 3 3 3 3 3 3 4 4 4 4 4 4 4\n",
      " 4 4 4 4 4 4 4 4 4 4 4 4 4 4 4 4 4 4 4 4 4 4 4 4 4 4 4 4 4 4 4 4 4 4 4 4 4\n",
      " 4 4 4 4 4 4 4 4 4 4 4 4 4 4 4 4 4 4 4 4 4 4 4 4 4 4 4 4 4 4 4 4 4 4 4 4 4\n",
      " 4 4 4 4 4 4 4 4 4 4 4 4 4 4 4 4 4 4 4 5 5 5 5 5 5 5 5 5 5 5 5 5 5 5 5 5 5\n",
      " 5 5 5 5 5 5 5 5 5 5 5 5 5 5 5 5 5 5 5 5 5 5 5 5 5 5 5 5 5 5 5 5 5 5 5 5 5\n",
      " 5 5 5 5 5 5 5 5 5 5 5 5 5 5 5 5 5 5 5 5 5 5 5 5 5 5 5 5 5 5 5 5 5 5 5 5 5\n",
      " 5 5 5 5 5 5 5 5 6 6 6 6 6 6 6 6 6 6 6 6 6 6 6 6 6 6 6 6 6 6 6 6 6 6 6 6 6\n",
      " 6 6 6 6 6 6 6 6 6 6 6 6 6 6 6 6 6 6 6 6 6 6 6 6 6 6 6 6 6 6 6 6 6 6 6 6 6\n",
      " 6 6 6 6 6 6 6 6 6 6 6 6 6 6 6 6 6 6 6 6 6 6 6 6 6 6 6 6 6 6 6 6 6 6 7 7 7\n",
      " 7 7 7 7 7 7 7 7 7 7 7 7 7 7 7 7 7 7 7 7 7 7 7 7 7 7 7 7 7 7 7 7 7 7 7 7 7\n",
      " 7 7 7 7 7 7 7 7 7 7 7 7 7 7 7 7 7 7 7 7 7 7 7 7 7 7 7 7 7 7 7 7 7 7 7 7 7\n",
      " 7 7 7 7 7 7 7 7 7 7 7 7 7 7 7 7 7 7 7 7 7 7 7 8 8 8 8 8 8 8 8 8 8 8 8 8 8\n",
      " 8 8 8 8 8 8 8 8 8 8 8 8 8 8 8 8 8 8 8 8 8 8 8 8 8 8 8 8 8 8 8 8 8 8 8 8 8\n",
      " 8 8 8 8 8 8 8 8 8 8 8 8 8 8 8 8 8 8 8 8 8 8 8 8 8 8 8 8 8 8 8 8 8 8 8 8 8\n",
      " 8 8 8 8 8 8 8 8 8 8 8 8 9 9 9 9 9 9 9 9 9 9 9 9 9 9 9 9 9 9 9 9 9 9 9 9 9\n",
      " 9 9 9 9 9 9 9 9 9 9 9 9 9 9 9 9 9 9 9 9 9 9 9 9 9 9 9 9 9 9 9 9 9 9 9 9 9\n",
      " 9 9 9 9 9 9 9 9 9 9 9 9 9 9 9 9 9 9 9 9 9 9 9 9 9 9 9 9 9 9 9 9 9 9 9 9 9\n",
      " 9]\n"
     ]
    }
   ],
   "source": [
    "le = LabelEncoder()\n",
    "le_fit = le.fit(train_label)\n",
    "train_classes = {num: name for num, name in enumerate(le_fit.classes_)}\n",
    "train_label = le_fit.transform(train_label)\n",
    "test_label = le_fit.transform(test_label)\n",
    "\n",
    "print(train_classes)\n",
    "print(train_label)\n",
    "print(test_label)"
   ]
  },
  {
   "cell_type": "code",
   "execution_count": 13,
   "id": "ac284bae",
   "metadata": {},
   "outputs": [
    {
     "data": {
      "image/png": "[encoded data removed]",
      "text/plain": [
       "<Figure size 800x800 with 2 Axes>"
      ]
     },
     "metadata": {},
     "output_type": "display_data"
    }
   ],
   "source": [
    "plt.figure(figsize=(8, 8))\n",
    "\n",
    "plt.subplot(121)\n",
    "plt.imshow(train_data[0])\n",
    "plt.title(train_classes[train_label[0]])\n",
    "\n",
    "plt.subplot(122)\n",
    "plt.imshow(test_data[0])\n",
    "plt.title(train_classes[test_label[0]])\n",
    "\n",
    "plt.show()"
   ]
  },
  {
   "cell_type": "code",
   "execution_count": 14,
   "id": "702b5c29",
   "metadata": {},
   "outputs": [],
   "source": [
    "# .csv 파일로 만들기위해 작성한 코드\n",
    "# train_df = pd.DataFrame({\n",
    "#     'img' : train_data,\n",
    "#     'label': train_label\n",
    "# })\n",
    "# test_df = pd.DataFrame({\n",
    "#     'img' : test_data,\n",
    "#     'label' : test_label\n",
    "# })\n",
    "# display(train_df)\n",
    "# display(test_df)"
   ]
  },
  {
   "cell_type": "code",
   "execution_count": 15,
   "id": "cede452d",
   "metadata": {},
   "outputs": [
    {
     "data": {
      "text/html": [
       "<div>\n",
       "<style scoped>\n",
       "    .dataframe tbody tr th:only-of-type {\n",
       "        vertical-align: middle;\n",
       "    }\n",
       "\n",
       "    .dataframe tbody tr th {\n",
       "        vertical-align: top;\n",
       "    }\n",
       "\n",
       "    .dataframe thead th {\n",
       "        text-align: right;\n",
       "    }\n",
       "</style>\n",
       "<table border=\"1\" class=\"dataframe\">\n",
       "  <thead>\n",
       "    <tr style=\"text-align: right;\">\n",
       "      <th></th>\n",
       "      <th>label</th>\n",
       "    </tr>\n",
       "  </thead>\n",
       "  <tbody>\n",
       "    <tr>\n",
       "      <th>0</th>\n",
       "      <td>battery</td>\n",
       "    </tr>\n",
       "    <tr>\n",
       "      <th>1</th>\n",
       "      <td>biological</td>\n",
       "    </tr>\n",
       "    <tr>\n",
       "      <th>2</th>\n",
       "      <td>cardboard</td>\n",
       "    </tr>\n",
       "    <tr>\n",
       "      <th>3</th>\n",
       "      <td>clothes</td>\n",
       "    </tr>\n",
       "    <tr>\n",
       "      <th>4</th>\n",
       "      <td>glass</td>\n",
       "    </tr>\n",
       "    <tr>\n",
       "      <th>5</th>\n",
       "      <td>metal</td>\n",
       "    </tr>\n",
       "    <tr>\n",
       "      <th>6</th>\n",
       "      <td>paper</td>\n",
       "    </tr>\n",
       "    <tr>\n",
       "      <th>7</th>\n",
       "      <td>plastic</td>\n",
       "    </tr>\n",
       "    <tr>\n",
       "      <th>8</th>\n",
       "      <td>shoes</td>\n",
       "    </tr>\n",
       "    <tr>\n",
       "      <th>9</th>\n",
       "      <td>trash</td>\n",
       "    </tr>\n",
       "  </tbody>\n",
       "</table>\n",
       "</div>"
      ],
      "text/plain": [
       "        label\n",
       "0     battery\n",
       "1  biological\n",
       "2   cardboard\n",
       "3     clothes\n",
       "4       glass\n",
       "5       metal\n",
       "6       paper\n",
       "7     plastic\n",
       "8       shoes\n",
       "9       trash"
      ]
     },
     "execution_count": 15,
     "metadata": {},
     "output_type": "execute_result"
    }
   ],
   "source": [
    "train_classes = pd.DataFrame({\n",
    "    'label' : train_classes.values()\n",
    "})\n",
    "train_classes"
   ]
  },
  {
   "cell_type": "code",
   "execution_count": 16,
   "id": "bedae32b",
   "metadata": {},
   "outputs": [],
   "source": [
    "with h5py.File('data\\\\garbage_data.hdf5', 'w') as hf:\n",
    "    hf.create_dataset('train_data', data=train_data)\n",
    "    hf.create_dataset('train_label', data=train_label)\n",
    "    hf.create_dataset('test_data', data=test_data)\n",
    "    hf.create_dataset('test_label', data=test_label)\n",
    "train_classes.to_csv('data\\\\label.csv', index=False)"
   ]
  }
 ],
 "metadata": {
  "kernelspec": {
   "display_name": "test_env",
   "language": "python",
   "name": "python3"
  },
  "language_info": {
   "codemirror_mode": {
    "name": "ipython",
    "version": 3
   },
   "file_extension": ".py",
   "mimetype": "text/x-python",
   "name": "python",
   "nbconvert_exporter": "python",
   "pygments_lexer": "ipython3",
   "version": "3.9.21"
  }
 },
 "nbformat": 4,
 "nbformat_minor": 5
}

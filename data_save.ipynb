{
 "cells": [
  {
   "cell_type": "markdown",
   "id": "f03aefc1",
   "metadata": {},
   "source": [
    "# Data Save"
   ]
  },
  {
   "cell_type": "markdown",
   "id": "231d259d",
   "metadata": {},
   "source": [
    "### Library Import"
   ]
  },
  {
   "cell_type": "code",
   "execution_count": 1,
   "id": "0aac296e",
   "metadata": {},
   "outputs": [],
   "source": [
    "import os\n",
    "import cv2\n",
    "import h5py\n",
    "import json\n",
    "import numpy as np\n",
    "import pandas as pd\n",
    "import matplotlib.pyplot as plt\n",
    "from sklearn.preprocessing import LabelEncoder"
   ]
  },
  {
   "cell_type": "markdown",
   "id": "ce2f2d86",
   "metadata": {},
   "source": [
    "### 데이터의 경로 입력"
   ]
  },
  {
   "cell_type": "code",
   "execution_count": null,
   "id": "cb57322b",
   "metadata": {},
   "outputs": [],
   "source": [
    "DATA_PATH = \"dataset\\\\\""
   ]
  },
  {
   "cell_type": "markdown",
   "id": "c25339d6",
   "metadata": {},
   "source": [
    "### train, test, val 폴더 경로 구분"
   ]
  },
  {
   "cell_type": "code",
   "execution_count": null,
   "id": "71cfaf81",
   "metadata": {},
   "outputs": [],
   "source": [
    "file_path = dict()\n",
    "for path in os.listdir(DATA_PATH):\n",
    "    if \"train\" in path:\n",
    "        file_path[\"train_path\"] = os.path.join(DATA_PATH, path)\n",
    "    elif \"val\" in path:\n",
    "        file_path[\"val_path\"] = os.path.join(DATA_PATH, path)\n",
    "    else:\n",
    "        file_path[\"test_path\"] = os.path.join(DATA_PATH, path)"
   ]
  },
  {
   "cell_type": "code",
   "execution_count": 9,
   "id": "c128aa8e",
   "metadata": {},
   "outputs": [
    {
     "data": {
      "text/plain": [
       "{'test_path': 'dataset\\\\test',\n",
       " 'train_path': 'dataset\\\\train',\n",
       " 'val_path': 'dataset\\\\val'}"
      ]
     },
     "execution_count": 9,
     "metadata": {},
     "output_type": "execute_result"
    }
   ],
   "source": [
    "file_path"
   ]
  },
  {
   "cell_type": "code",
   "execution_count": null,
   "id": "843e0080",
   "metadata": {},
   "outputs": [],
   "source": []
  }
 ],
 "metadata": {
  "kernelspec": {
   "display_name": "test_env",
   "language": "python",
   "name": "python3"
  },
  "language_info": {
   "codemirror_mode": {
    "name": "ipython",
    "version": 3
   },
   "file_extension": ".py",
   "mimetype": "text/x-python",
   "name": "python",
   "nbconvert_exporter": "python",
   "pygments_lexer": "ipython3",
   "version": "3.9.21"
  }
 },
 "nbformat": 4,
 "nbformat_minor": 5
}
